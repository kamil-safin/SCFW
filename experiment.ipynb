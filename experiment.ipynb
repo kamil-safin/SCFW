{
 "cells": [
  {
   "cell_type": "code",
   "execution_count": 1,
   "metadata": {},
   "outputs": [],
   "source": [
    "import numpy as np\n",
    "from scfw.frank_wolfe import run_frank_wolfe\n",
    "from scopt.prox_newton import run_prox_newton\n",
    "from scopt.prox_grad import run_prox_grad\n",
    "from problems.portfolio import PortfolioProblem\n",
    "from problems.poisson import PoissonProblem"
   ]
  },
  {
   "cell_type": "code",
   "execution_count": 2,
   "metadata": {},
   "outputs": [],
   "source": [
    "# initialize problems\n",
    "portfolio_problem = PortfolioProblem(path='./data/syn_1000_800_10_50.mat')\n",
    "poisson_problem = PoissonProblem(path='./data/a1a')"
   ]
  },
  {
   "cell_type": "code",
   "execution_count": 3,
   "metadata": {
    "tags": []
   },
   "outputs": [
    {
     "output_type": "stream",
     "name": "stdout",
     "text": "iter=1, stepsize=6.67e-01, criterion=6.66e-01, upper_bound=5.64e-02, lower_bound=-5.18e+00, real_Gap=5.23e+00, f_val=0.05635009446772449\niter=10, stepsize=1.67e-01, criterion=1.41e-01, upper_bound=-4.47e+00, lower_bound=-4.75e+00, real_Gap=2.81e-01, f_val=-4.468664325027419\niter=20, stepsize=9.09e-02, criterion=7.66e-02, upper_bound=-4.54e+00, lower_bound=-4.63e+00, real_Gap=8.85e-02, f_val=-4.541919019312828\niter=30, stepsize=6.25e-02, criterion=4.90e-02, upper_bound=-4.56e+00, lower_bound=-4.60e+00, real_Gap=4.16e-02, f_val=-4.559402979566487\niter=40, stepsize=4.76e-02, criterion=3.65e-02, upper_bound=-4.57e+00, lower_bound=-4.59e+00, real_Gap=2.88e-02, f_val=-4.5636570036557895\niter=50, stepsize=3.85e-02, criterion=2.89e-02, upper_bound=-4.57e+00, lower_bound=-4.58e+00, real_Gap=1.29e-02, f_val=-4.56765238893037\niter=60, stepsize=3.23e-02, criterion=2.40e-02, upper_bound=-4.57e+00, lower_bound=-4.58e+00, real_Gap=1.16e-02, f_val=-4.569039026300745\niter=70, stepsize=2.78e-02, criterion=2.05e-02, upper_bound=-4.57e+00, lower_bound=-4.58e+00, real_Gap=1.10e-02, f_val=-4.56956900708064\niter=80, stepsize=2.44e-02, criterion=1.77e-02, upper_bound=-4.57e+00, lower_bound=-4.58e+00, real_Gap=1.10e-02, f_val=-4.569112134892125\niter=90, stepsize=2.17e-02, criterion=1.57e-02, upper_bound=-4.57e+00, lower_bound=-4.58e+00, real_Gap=7.74e-03, f_val=-4.56965406571926\niter=100, stepsize=1.96e-02, criterion=1.43e-02, upper_bound=-4.57e+00, lower_bound=-4.58e+00, real_Gap=7.37e-03, f_val=-4.570160966643055\n0.26429224014282227\n"
    }
   ],
   "source": [
    "# run FW with selected policy\n",
    "data = run_frank_wolfe(portfolio_problem, alpha_policy='standard', max_iter=100, print_every=10)"
   ]
  },
  {
   "cell_type": "code",
   "execution_count": 4,
   "metadata": {
    "tags": []
   },
   "outputs": [
    {
     "output_type": "stream",
     "name": "stdout",
     "text": "iter =    1, stepsize = 2.728e-02, rdiff = 1.027e-01 , f = 3658.74\niter =   10, stepsize = 2.832e-02, rdiff = 9.296e-02 , f = 3356.65\niter =   20, stepsize = 2.980e-02, rdiff = 8.464e-02 , f = 3035.05\niter =   30, stepsize = 3.176e-02, rdiff = 8.572e-02 , f = 2731.84\niter =   40, stepsize = 3.464e-02, rdiff = 9.074e-02 , f = 2451.68\niter =   50, stepsize = 3.807e-02, rdiff = 1.904e-01 , f = 2199.88\niter =   60, stepsize = 4.610e-02, rdiff = 2.271e-01 , f = 1981.61\niter =   70, stepsize = 5.859e-02, rdiff = 1.335e-01 , f = 1809.1\niter =   80, stepsize = 9.745e-02, rdiff = 1.799e-01 , f = 1693.23\niter =   90, stepsize = 3.178e-01, rdiff = 7.247e-02 , f = 1643\nConvergence achieved!\niter =   98, stepsize = 1.000e+00, rdiff = 9.665e-15,value=1640.16\n16.36248254776001\n"
    }
   ],
   "source": [
    "# run proximal_newton\n",
    "data = run_prox_newton(poisson_problem, use_two_phase=True, Lest='estimate')"
   ]
  },
  {
   "cell_type": "code",
   "execution_count": 5,
   "metadata": {
    "tags": []
   },
   "outputs": [
    {
     "output_type": "stream",
     "name": "stdout",
     "text": "iter =    1, stepsize = 6.486e-05, rdiff = 3.954e+00 , f = 3658.74\niter =   10, stepsize = 1.542e-04, rdiff = 1.477e+02 , f = 2555.26\niter =   20, stepsize = 5.803e-04, rdiff = 2.169e+01 , f = 1870.28\niter =   30, stepsize = 5.042e-03, rdiff = 2.805e+00 , f = 1675.87\niter =   40, stepsize = 5.619e-02, rdiff = 3.217e-01 , f = 1660.88\niter =   50, stepsize = 1.080e-01, rdiff = 3.108e-01 , f = 1653.72\niter =   60, stepsize = 2.070e-02, rdiff = 3.228e-01 , f = 1653.02\niter =   70, stepsize = 8.791e-03, rdiff = 4.730e-01 , f = 1652.72\niter =   80, stepsize = 2.569e-02, rdiff = 4.399e+00 , f = 1648.17\niter =   90, stepsize = 9.997e-03, rdiff = 1.508e+00 , f = 1647.63\niter =  100, stepsize = 3.417e-02, rdiff = 9.681e-01 , f = 1646.26\nExceed the maximum number of iterations\n0.0468747615814209\n"
    }
   ],
   "source": [
    "# run proximal_gradient\n",
    "data = run_prox_grad(poisson_problem, max_iter=100, print_every=10)"
   ]
  },
  {
   "cell_type": "code",
   "execution_count": null,
   "metadata": {},
   "outputs": [],
   "source": []
  }
 ],
 "metadata": {
  "language_info": {
   "codemirror_mode": {
    "name": "ipython",
    "version": 3
   },
   "file_extension": ".py",
   "mimetype": "text/x-python",
   "name": "python",
   "nbconvert_exporter": "python",
   "pygments_lexer": "ipython3",
   "version": "3.7.3-final"
  },
  "orig_nbformat": 2,
  "kernelspec": {
   "name": "python3",
   "display_name": "Python 3"
  }
 },
 "nbformat": 4,
 "nbformat_minor": 2
}